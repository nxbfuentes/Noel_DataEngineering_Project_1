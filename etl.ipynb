{
 "cells": [
  {
   "cell_type": "code",
   "execution_count": 6,
   "metadata": {},
   "outputs": [],
   "source": [
    "import requests\n",
    "import pandas as pd\n",
    "from secrets_config import opensky_api_key # https://openskynetwork.github.io/opensky-api/rest.html\n",
    "import time\n"
   ]
  },
  {
   "cell_type": "code",
   "execution_count": 7,
   "metadata": {},
   "outputs": [
    {
     "name": "stdout",
     "output_type": "stream",
     "text": [
      "1740657608 1740654008\n"
     ]
    }
   ],
   "source": [
    "current_time = int(time.time())\n",
    "one_hour_ago = current_time - 3600\n",
    "print(current_time, one_hour_ago)"
   ]
  },
  {
   "cell_type": "code",
   "execution_count": 8,
   "metadata": {},
   "outputs": [],
   "source": [
    "root_url = 'https://opensky-network.org/api/flights/all'"
   ]
  },
  {
   "cell_type": "code",
   "execution_count": 9,
   "metadata": {},
   "outputs": [
    {
     "name": "stdout",
     "output_type": "stream",
     "text": [
      "200\n"
     ]
    }
   ],
   "source": [
    "# open sky api usage docs: # https://openskynetwork.github.io/opensky-api/rest.html\n",
    "params = {\n",
    "    \"begin\": one_hour_ago,\n",
    "    \"end\": current_time\n",
    "} \n",
    "response = requests.get(f\"{root_url}\", params=params)\n",
    "print(response.status_code)\n",
    "response_data = response.json()"
   ]
  },
  {
   "cell_type": "code",
   "execution_count": 10,
   "metadata": {},
   "outputs": [
    {
     "name": "stdout",
     "output_type": "stream",
     "text": [
      "[{'icao24': '400e5a', 'firstSeen': 1740648350, 'estDepartureAirport': 'EGKK', 'lastSeen': 1740655120, 'estArrivalAirport': 'EGNV', 'callsign': 'EZY9090 ', 'estDepartureAirportHorizDistance': 1682, 'estDepartureAirportVertDistance': 296, 'estArrivalAirportHorizDistance': 538, 'estArrivalAirportVertDistance': 67, 'departureAirportCandidatesCount': 112, 'arrivalAirportCandidatesCount': 50}, {'icao24': '400eaa', 'firstSeen': 1740652521, 'estDepartureAirport': 'EGOW', 'lastSeen': 1740654225, 'estArrivalAirport': 'EGOW', 'callsign': 'UAM11   ', 'estDepartureAirportHorizDistance': 668, 'estDepartureAirportVertDistance': 64, 'estArrivalAirportHorizDistance': 580, 'estArrivalAirportVertDistance': 72, 'departureAirportCandidatesCount': 45, 'arrivalAirportCandidatesCount': 45}, {'icao24': '400ece', 'firstSeen': 1740652919, 'estDepartureAirport': 'EGOW', 'lastSeen': 1740654353, 'estArrivalAirport': 'EGOW', 'callsign': 'UAM38   ', 'estDepartureAirportHorizDistance': 707, 'estDepartureAirportVertDistance': 64, 'estArrivalAirportHorizDistance': 621, 'estArrivalAirportVertDistance': 72, 'departureAirportCandidatesCount': 45, 'arrivalAirportCandidatesCount': 45}, {'icao24': '42bc68', 'firstSeen': 1740655621, 'estDepartureAirport': 'EGXY', 'lastSeen': 1740656756, 'estArrivalAirport': 'EGXY', 'callsign': 'SYERSTON', 'estDepartureAirportHorizDistance': 344, 'estDepartureAirportVertDistance': 227, 'estArrivalAirportHorizDistance': 926, 'estArrivalAirportVertDistance': 61, 'departureAirportCandidatesCount': 122, 'arrivalAirportCandidatesCount': 123}, {'icao24': '45d1f4', 'firstSeen': 1740654615, 'estDepartureAirport': 'LFLR', 'lastSeen': 1740655779, 'estArrivalAirport': 'LFLU', 'callsign': 'FHUBC1  ', 'estDepartureAirportHorizDistance': 11568, 'estDepartureAirportVertDistance': 728, 'estArrivalAirportHorizDistance': 454, 'estArrivalAirportVertDistance': 60, 'departureAirportCandidatesCount': 102, 'arrivalAirportCandidatesCount': 95}, {'icao24': '48ada2', 'firstSeen': 1740650018, 'estDepartureAirport': 'ENGM', 'lastSeen': 1740653939, 'estArrivalAirport': 'EPMM', 'callsign': 'LOT48F  ', 'estDepartureAirportHorizDistance': 967, 'estDepartureAirportVertDistance': 9, 'estArrivalAirportHorizDistance': 38398, 'estArrivalAirportVertDistance': 501, 'departureAirportCandidatesCount': 21, 'arrivalAirportCandidatesCount': 28}, {'icao24': '48bc0c', 'firstSeen': 1740650762, 'estDepartureAirport': 'EPPT', 'lastSeen': 1740653922, 'estArrivalAirport': 'EPSJ', 'callsign': 'SPPAM   ', 'estDepartureAirportHorizDistance': 4472, 'estDepartureAirportVertDistance': 175, 'estArrivalAirportHorizDistance': 16751, 'estArrivalAirportVertDistance': 6408, 'departureAirportCandidatesCount': 37, 'arrivalAirportCandidatesCount': 2}, {'icao24': '48d980', 'firstSeen': 1740653880, 'estDepartureAirport': 'EPWA', 'lastSeen': 1740655718, 'estArrivalAirport': 'EPKK', 'callsign': 'PLF110  ', 'estDepartureAirportHorizDistance': 1035, 'estDepartureAirportVertDistance': 141, 'estArrivalAirportHorizDistance': 289, 'estArrivalAirportVertDistance': 50, 'departureAirportCandidatesCount': 31, 'arrivalAirportCandidatesCount': 42}, {'icao24': '49d5d7', 'firstSeen': 1740651574, 'estDepartureAirport': 'LKPR', 'lastSeen': 1740653591, 'estArrivalAirport': 'EDMO', 'callsign': 'OKPRF   ', 'estDepartureAirportHorizDistance': 1147, 'estDepartureAirportVertDistance': 60, 'estArrivalAirportHorizDistance': 806, 'estArrivalAirportVertDistance': 60, 'departureAirportCandidatesCount': 113, 'arrivalAirportCandidatesCount': 113}, {'icao24': '4b17e6', 'firstSeen': 1740649170, 'estDepartureAirport': 'EGLC', 'lastSeen': 1740653492, 'estArrivalAirport': 'LSZH', 'callsign': 'SWR3VB  ', 'estDepartureAirportHorizDistance': 523, 'estDepartureAirportVertDistance': 108, 'estArrivalAirportHorizDistance': 1166, 'estArrivalAirportVertDistance': 73, 'departureAirportCandidatesCount': 117, 'arrivalAirportCandidatesCount': 130}, {'icao24': '4b8507', 'firstSeen': 1740650459, 'estDepartureAirport': 'LTFD', 'lastSeen': 1740653585, 'estArrivalAirport': 'LTFD', 'callsign': 'TCAHG   ', 'estDepartureAirportHorizDistance': 5435, 'estDepartureAirportVertDistance': 693, 'estArrivalAirportHorizDistance': 5838, 'estArrivalAirportVertDistance': 4876, 'departureAirportCandidatesCount': 20, 'arrivalAirportCandidatesCount': 0}, {'icao24': '4ba9ef', 'firstSeen': 1740612228, 'estDepartureAirport': 'LTFM', 'lastSeen': 1740655079, 'estArrivalAirport': 'ZGSD', 'callsign': 'THY6163 ', 'estDepartureAirportHorizDistance': 55926, 'estDepartureAirportVertDistance': 411, 'estArrivalAirportHorizDistance': 14229, 'estArrivalAirportVertDistance': 5883, 'departureAirportCandidatesCount': 14, 'arrivalAirportCandidatesCount': 1}, {'icao24': '4ca7b7', 'firstSeen': 1740651101, 'estDepartureAirport': 'EGNX', 'lastSeen': 1740653901, 'estArrivalAirport': 'EGNX', 'callsign': 'RYR100T ', 'estDepartureAirportHorizDistance': 83, 'estDepartureAirportVertDistance': 55, 'estArrivalAirportHorizDistance': 1226, 'estArrivalAirportVertDistance': 55, 'departureAirportCandidatesCount': 123, 'arrivalAirportCandidatesCount': 125}, {'icao24': '4d0116', 'firstSeen': 1740632841, 'estDepartureAirport': 'OMDW', 'lastSeen': 1740654074, 'estArrivalAirport': 'VMMC', 'callsign': 'CLX4793 ', 'estDepartureAirportHorizDistance': 3369, 'estDepartureAirportVertDistance': 3340, 'estArrivalAirportHorizDistance': 11914, 'estArrivalAirportVertDistance': 6158, 'departureAirportCandidatesCount': 0, 'arrivalAirportCandidatesCount': 1}, {'icao24': '7c355d', 'firstSeen': 1740655426, 'estDepartureAirport': 'YPJT', 'lastSeen': 1740656852, 'estArrivalAirport': 'YPJT', 'callsign': 'KTR     ', 'estDepartureAirportHorizDistance': 186, 'estDepartureAirportVertDistance': 45, 'estArrivalAirportHorizDistance': 138, 'estArrivalAirportVertDistance': 45, 'departureAirportCandidatesCount': 36, 'arrivalAirportCandidatesCount': 36}, {'icao24': '801675', 'firstSeen': 1740651761, 'estDepartureAirport': 'VAJJ', 'lastSeen': 1740655971, 'estArrivalAirport': None, 'callsign': 'VTHLX   ', 'estDepartureAirportHorizDistance': 75617, 'estDepartureAirportVertDistance': 72, 'estArrivalAirportHorizDistance': 0, 'estArrivalAirportVertDistance': 0, 'departureAirportCandidatesCount': 4, 'arrivalAirportCandidatesCount': 0}, {'icao24': '84b860', 'firstSeen': 1740650206, 'estDepartureAirport': None, 'lastSeen': 1740653776, 'estArrivalAirport': 'RJTT', 'callsign': 'ANA724  ', 'estDepartureAirportHorizDistance': 0, 'estDepartureAirportVertDistance': 0, 'estArrivalAirportHorizDistance': 938, 'estArrivalAirportVertDistance': 9910, 'departureAirportCandidatesCount': 0, 'arrivalAirportCandidatesCount': 2}, {'icao24': 'ac3b58', 'firstSeen': 1740653769, 'estDepartureAirport': 'KLOU', 'lastSeen': 1740654931, 'estArrivalAirport': '2KY4', 'callsign': 'N8878T  ', 'estDepartureAirportHorizDistance': 1321, 'estDepartureAirportVertDistance': 138, 'estArrivalAirportHorizDistance': 9539, 'estArrivalAirportVertDistance': 20293, 'departureAirportCandidatesCount': 380, 'arrivalAirportCandidatesCount': 9}, {'icao24': 'ac6f57', 'firstSeen': 1740651672, 'estDepartureAirport': 'LSGG', 'lastSeen': 1740653496, 'estArrivalAirport': 'LILO', 'callsign': 'N900BT  ', 'estDepartureAirportHorizDistance': 2060, 'estDepartureAirportVertDistance': 240, 'estArrivalAirportHorizDistance': 24942, 'estArrivalAirportVertDistance': 3345, 'departureAirportCandidatesCount': 102, 'arrivalAirportCandidatesCount': 2}, {'icao24': 'e0b2c5', 'firstSeen': 1740651812, 'estDepartureAirport': 'SABE', 'lastSeen': 1740653820, 'estArrivalAirport': 'SAAR', 'callsign': 'ARG1708 ', 'estDepartureAirportHorizDistance': 500, 'estDepartureAirportVertDistance': 13, 'estArrivalAirportHorizDistance': 10000, 'estArrivalAirportVertDistance': 5902, 'departureAirportCandidatesCount': 26, 'arrivalAirportCandidatesCount': 0}]\n"
     ]
    }
   ],
   "source": [
    "# check the response \n",
    "print(response_data)"
   ]
  },
  {
   "cell_type": "code",
   "execution_count": 11,
   "metadata": {},
   "outputs": [
    {
     "data": {
      "text/html": [
       "<div>\n",
       "<style scoped>\n",
       "    .dataframe tbody tr th:only-of-type {\n",
       "        vertical-align: middle;\n",
       "    }\n",
       "\n",
       "    .dataframe tbody tr th {\n",
       "        vertical-align: top;\n",
       "    }\n",
       "\n",
       "    .dataframe thead th {\n",
       "        text-align: right;\n",
       "    }\n",
       "</style>\n",
       "<table border=\"1\" class=\"dataframe\">\n",
       "  <thead>\n",
       "    <tr style=\"text-align: right;\">\n",
       "      <th></th>\n",
       "      <th>icao24</th>\n",
       "      <th>firstSeen</th>\n",
       "      <th>estDepartureAirport</th>\n",
       "      <th>lastSeen</th>\n",
       "      <th>estArrivalAirport</th>\n",
       "      <th>callsign</th>\n",
       "      <th>estDepartureAirportHorizDistance</th>\n",
       "      <th>estDepartureAirportVertDistance</th>\n",
       "      <th>estArrivalAirportHorizDistance</th>\n",
       "      <th>estArrivalAirportVertDistance</th>\n",
       "      <th>departureAirportCandidatesCount</th>\n",
       "      <th>arrivalAirportCandidatesCount</th>\n",
       "    </tr>\n",
       "  </thead>\n",
       "  <tbody>\n",
       "    <tr>\n",
       "      <th>0</th>\n",
       "      <td>400e5a</td>\n",
       "      <td>1740648350</td>\n",
       "      <td>EGKK</td>\n",
       "      <td>1740655120</td>\n",
       "      <td>EGNV</td>\n",
       "      <td>EZY9090</td>\n",
       "      <td>1682</td>\n",
       "      <td>296</td>\n",
       "      <td>538</td>\n",
       "      <td>67</td>\n",
       "      <td>112</td>\n",
       "      <td>50</td>\n",
       "    </tr>\n",
       "    <tr>\n",
       "      <th>1</th>\n",
       "      <td>400eaa</td>\n",
       "      <td>1740652521</td>\n",
       "      <td>EGOW</td>\n",
       "      <td>1740654225</td>\n",
       "      <td>EGOW</td>\n",
       "      <td>UAM11</td>\n",
       "      <td>668</td>\n",
       "      <td>64</td>\n",
       "      <td>580</td>\n",
       "      <td>72</td>\n",
       "      <td>45</td>\n",
       "      <td>45</td>\n",
       "    </tr>\n",
       "    <tr>\n",
       "      <th>2</th>\n",
       "      <td>400ece</td>\n",
       "      <td>1740652919</td>\n",
       "      <td>EGOW</td>\n",
       "      <td>1740654353</td>\n",
       "      <td>EGOW</td>\n",
       "      <td>UAM38</td>\n",
       "      <td>707</td>\n",
       "      <td>64</td>\n",
       "      <td>621</td>\n",
       "      <td>72</td>\n",
       "      <td>45</td>\n",
       "      <td>45</td>\n",
       "    </tr>\n",
       "    <tr>\n",
       "      <th>3</th>\n",
       "      <td>42bc68</td>\n",
       "      <td>1740655621</td>\n",
       "      <td>EGXY</td>\n",
       "      <td>1740656756</td>\n",
       "      <td>EGXY</td>\n",
       "      <td>SYERSTON</td>\n",
       "      <td>344</td>\n",
       "      <td>227</td>\n",
       "      <td>926</td>\n",
       "      <td>61</td>\n",
       "      <td>122</td>\n",
       "      <td>123</td>\n",
       "    </tr>\n",
       "    <tr>\n",
       "      <th>4</th>\n",
       "      <td>45d1f4</td>\n",
       "      <td>1740654615</td>\n",
       "      <td>LFLR</td>\n",
       "      <td>1740655779</td>\n",
       "      <td>LFLU</td>\n",
       "      <td>FHUBC1</td>\n",
       "      <td>11568</td>\n",
       "      <td>728</td>\n",
       "      <td>454</td>\n",
       "      <td>60</td>\n",
       "      <td>102</td>\n",
       "      <td>95</td>\n",
       "    </tr>\n",
       "  </tbody>\n",
       "</table>\n",
       "</div>"
      ],
      "text/plain": [
       "   icao24   firstSeen estDepartureAirport    lastSeen estArrivalAirport  \\\n",
       "0  400e5a  1740648350                EGKK  1740655120              EGNV   \n",
       "1  400eaa  1740652521                EGOW  1740654225              EGOW   \n",
       "2  400ece  1740652919                EGOW  1740654353              EGOW   \n",
       "3  42bc68  1740655621                EGXY  1740656756              EGXY   \n",
       "4  45d1f4  1740654615                LFLR  1740655779              LFLU   \n",
       "\n",
       "   callsign  estDepartureAirportHorizDistance  \\\n",
       "0  EZY9090                               1682   \n",
       "1  UAM11                                  668   \n",
       "2  UAM38                                  707   \n",
       "3  SYERSTON                               344   \n",
       "4  FHUBC1                               11568   \n",
       "\n",
       "   estDepartureAirportVertDistance  estArrivalAirportHorizDistance  \\\n",
       "0                              296                             538   \n",
       "1                               64                             580   \n",
       "2                               64                             621   \n",
       "3                              227                             926   \n",
       "4                              728                             454   \n",
       "\n",
       "   estArrivalAirportVertDistance  departureAirportCandidatesCount  \\\n",
       "0                             67                              112   \n",
       "1                             72                               45   \n",
       "2                             72                               45   \n",
       "3                             61                              122   \n",
       "4                             60                              102   \n",
       "\n",
       "   arrivalAirportCandidatesCount  \n",
       "0                             50  \n",
       "1                             45  \n",
       "2                             45  \n",
       "3                            123  \n",
       "4                             95  "
      ]
     },
     "execution_count": 11,
     "metadata": {},
     "output_type": "execute_result"
    }
   ],
   "source": [
    "# showing the data \n",
    "\n",
    "df_flights = pd.json_normalize(data=response_data)\n",
    "df_flights.head()"
   ]
  },
  {
   "cell_type": "code",
   "execution_count": 14,
   "metadata": {},
   "outputs": [
    {
     "data": {
      "text/plain": [
       "icao24                              20\n",
       "firstSeen                           20\n",
       "estDepartureAirport                 19\n",
       "lastSeen                            20\n",
       "estArrivalAirport                   19\n",
       "callsign                            20\n",
       "estDepartureAirportHorizDistance    20\n",
       "estDepartureAirportVertDistance     20\n",
       "estArrivalAirportHorizDistance      20\n",
       "estArrivalAirportVertDistance       20\n",
       "departureAirportCandidatesCount     20\n",
       "arrivalAirportCandidatesCount       20\n",
       "dtype: int64"
      ]
     },
     "execution_count": 14,
     "metadata": {},
     "output_type": "execute_result"
    }
   ],
   "source": [
    "df_flights.count()"
   ]
  },
  {
   "cell_type": "code",
   "execution_count": 12,
   "metadata": {},
   "outputs": [
    {
     "data": {
      "text/plain": [
       "Index(['icao24', 'firstSeen', 'estDepartureAirport', 'lastSeen',\n",
       "       'estArrivalAirport', 'callsign', 'estDepartureAirportHorizDistance',\n",
       "       'estDepartureAirportVertDistance', 'estArrivalAirportHorizDistance',\n",
       "       'estArrivalAirportVertDistance', 'departureAirportCandidatesCount',\n",
       "       'arrivalAirportCandidatesCount'],\n",
       "      dtype='object')"
      ]
     },
     "execution_count": 12,
     "metadata": {},
     "output_type": "execute_result"
    }
   ],
   "source": [
    "# listing all columns \n",
    "df_flights.columns"
   ]
  }
 ],
 "metadata": {
  "kernelspec": {
   "display_name": "Project1Env",
   "language": "python",
   "name": "python3"
  },
  "language_info": {
   "codemirror_mode": {
    "name": "ipython",
    "version": 3
   },
   "file_extension": ".py",
   "mimetype": "text/x-python",
   "name": "python",
   "nbconvert_exporter": "python",
   "pygments_lexer": "ipython3",
   "version": "3.10.13"
  }
 },
 "nbformat": 4,
 "nbformat_minor": 2
}
